{
 "cells": [
  {
   "cell_type": "markdown",
   "source": [
    "# 全球经济份额"
   ],
   "metadata": {
    "collapsed": false
   }
  },
  {
   "cell_type": "raw",
   "source": [
    "1. 美股（50%）\n",
    "2. 中国公司（30%）\n",
    "3. 其他市场（20%）\n",
    "根据估值动态调整.\n",
    "\n",
    "资产总配置：\n",
    "1. 债券40%\n",
    "2. 股票60%"
   ],
   "metadata": {
    "collapsed": false
   }
  },
  {
   "cell_type": "code",
   "execution_count": null,
   "outputs": [],
   "source": [],
   "metadata": {
    "collapsed": false
   }
  },
  {
   "cell_type": "raw",
   "source": [
    "纳斯达克100指数12000，标普500指数，生物科技。"
   ],
   "metadata": {
    "collapsed": false
   }
  },
  {
   "cell_type": "code",
   "execution_count": 12,
   "outputs": [
    {
     "name": "stdout",
     "output_type": "stream",
     "text": [
      "74.02583281415973\n"
     ]
    }
   ],
   "source": [
    "# 纳斯达克指数：11000-15000点之间\n",
    "def nas(point):\n",
    "    if point < 11000:\n",
    "        return 30000\n",
    "    if point > 16000:\n",
    "        return 0\n",
    "    if point > 15000:\n",
    "        return 1\n",
    "    session = (15000 - point) / 10\n",
    "    q = 1.02022\n",
    "    return pow(q, session) * 10\n",
    "print(nas(14000))"
   ],
   "metadata": {
    "collapsed": false,
    "ExecuteTime": {
     "end_time": "2023-12-25T17:43:15.378167Z",
     "start_time": "2023-12-25T17:43:15.373712Z"
    }
   }
  },
  {
   "cell_type": "code",
   "execution_count": 2,
   "outputs": [
    {
     "name": "stdout",
     "output_type": "stream",
     "text": [
      "400.0\n",
      "1.0202175806586458\n"
     ]
    }
   ],
   "source": [
    "print(4000/10)\n",
    "print(pow(3000, 1/400))"
   ],
   "metadata": {
    "collapsed": false,
    "ExecuteTime": {
     "end_time": "2023-12-25T17:38:02.583646Z",
     "start_time": "2023-12-25T17:38:02.573699Z"
    }
   }
  },
  {
   "cell_type": "code",
   "execution_count": 6,
   "outputs": [
    {
     "name": "stdout",
     "output_type": "stream",
     "text": [
      "3002.847023617881\n"
     ]
    }
   ],
   "source": [
    "print(pow(1.02022, 400))"
   ],
   "metadata": {
    "collapsed": false,
    "ExecuteTime": {
     "end_time": "2023-12-25T17:38:58.096951Z",
     "start_time": "2023-12-25T17:38:58.091490Z"
    }
   }
  },
  {
   "cell_type": "code",
   "execution_count": null,
   "outputs": [],
   "source": [],
   "metadata": {
    "collapsed": false,
    "is_executing": true
   }
  },
  {
   "cell_type": "code",
   "execution_count": 5,
   "outputs": [
    {
     "name": "stdout",
     "output_type": "stream",
     "text": [
      "0.5475294117647058\n"
     ]
    }
   ],
   "source": [],
   "metadata": {
    "collapsed": false,
    "ExecuteTime": {
     "end_time": "2023-12-26T16:55:43.162685Z",
     "start_time": "2023-12-26T16:55:43.158272Z"
    }
   }
  },
  {
   "cell_type": "code",
   "execution_count": 6,
   "outputs": [
    {
     "name": "stdout",
     "output_type": "stream",
     "text": [
      "89.79482352941176\n"
     ]
    }
   ],
   "source": [],
   "metadata": {
    "collapsed": false,
    "ExecuteTime": {
     "end_time": "2023-12-26T16:56:09.523539Z",
     "start_time": "2023-12-26T16:56:09.517627Z"
    }
   }
  },
  {
   "cell_type": "code",
   "execution_count": 7,
   "outputs": [
    {
     "data": {
      "text/plain": "1.6666666666666667"
     },
     "execution_count": 7,
     "metadata": {},
     "output_type": "execute_result"
    }
   ],
   "source": [],
   "metadata": {
    "collapsed": false,
    "ExecuteTime": {
     "end_time": "2023-12-26T17:20:14.677383Z",
     "start_time": "2023-12-26T17:20:14.677089Z"
    }
   }
  },
  {
   "cell_type": "code",
   "execution_count": 8,
   "outputs": [
    {
     "data": {
      "text/plain": "1.7087378640776698"
     },
     "execution_count": 8,
     "metadata": {},
     "output_type": "execute_result"
    }
   ],
   "source": [],
   "metadata": {
    "collapsed": false,
    "ExecuteTime": {
     "end_time": "2023-12-26T17:20:17.582210Z",
     "start_time": "2023-12-26T17:20:17.570827Z"
    }
   }
  },
  {
   "cell_type": "code",
   "execution_count": 9,
   "outputs": [
    {
     "data": {
      "text/plain": "0.6"
     },
     "execution_count": 9,
     "metadata": {},
     "output_type": "execute_result"
    }
   ],
   "source": [],
   "metadata": {
    "collapsed": false,
    "ExecuteTime": {
     "end_time": "2023-12-26T17:22:52.696770Z",
     "start_time": "2023-12-26T17:22:52.691629Z"
    }
   }
  },
  {
   "cell_type": "code",
   "execution_count": 11,
   "outputs": [
    {
     "data": {
      "text/plain": "0.5852272727272727"
     },
     "execution_count": 11,
     "metadata": {},
     "output_type": "execute_result"
    }
   ],
   "source": [
    "# 3500-4700\n",
    "\n"
   ],
   "metadata": {
    "collapsed": false,
    "ExecuteTime": {
     "end_time": "2023-12-26T17:23:19.950905Z",
     "start_time": "2023-12-26T17:23:19.948375Z"
    }
   }
  },
  {
   "cell_type": "code",
   "execution_count": 18,
   "outputs": [
    {
     "name": "stdout",
     "output_type": "stream",
     "text": [
      "5013.125432337825\n"
     ]
    }
   ],
   "source": [
    "# 3600-4400\n",
    "\n",
    "\n"
   ],
   "metadata": {
    "collapsed": false,
    "ExecuteTime": {
     "end_time": "2023-12-26T17:28:53.679459Z",
     "start_time": "2023-12-26T17:28:53.675225Z"
    }
   }
  },
  {
   "cell_type": "code",
   "execution_count": 15,
   "outputs": [
    {
     "data": {
      "text/plain": "10002.778100091642"
     },
     "execution_count": 15,
     "metadata": {},
     "output_type": "execute_result"
    }
   ],
   "source": [],
   "metadata": {
    "collapsed": false,
    "ExecuteTime": {
     "end_time": "2023-12-26T17:27:51.108148Z",
     "start_time": "2023-12-26T17:27:51.104313Z"
    }
   }
  },
  {
   "cell_type": "code",
   "execution_count": 19,
   "outputs": [
    {
     "data": {
      "text/plain": "0.3843741089250071"
     },
     "execution_count": 19,
     "metadata": {},
     "output_type": "execute_result"
    }
   ],
   "source": [],
   "metadata": {
    "collapsed": false,
    "ExecuteTime": {
     "end_time": "2023-12-26T17:31:38.213149Z",
     "start_time": "2023-12-26T17:31:38.210136Z"
    }
   }
  },
  {
   "cell_type": "raw",
   "source": [
    "中概互联指数基金"
   ],
   "metadata": {
    "collapsed": false,
    "ExecuteTime": {
     "end_time": "2023-12-26T17:31:56.674212Z",
     "start_time": "2023-12-26T17:31:56.671734Z"
    }
   },
   "outputs": [
    {
     "data": {
      "text/plain": "0.3505747126436782"
     },
     "execution_count": 20,
     "metadata": {},
     "output_type": "execute_result"
    }
   ],
   "execution_count": 20
  },
  {
   "cell_type": "code",
   "execution_count": 29,
   "outputs": [
    {
     "data": {
      "text/plain": "691.8309709189386"
     },
     "execution_count": 29,
     "metadata": {},
     "output_type": "execute_result"
    }
   ],
   "source": [
    "3500"
   ],
   "metadata": {
    "collapsed": false,
    "ExecuteTime": {
     "end_time": "2023-12-26T17:39:23.818746Z",
     "start_time": "2023-12-26T17:39:23.815066Z"
    }
   }
  },
  {
   "cell_type": "code",
   "execution_count": 27,
   "outputs": [
    {
     "data": {
      "text/plain": "1.096478196143185"
     },
     "execution_count": 27,
     "metadata": {},
     "output_type": "execute_result"
    }
   ],
   "source": [],
   "metadata": {
    "collapsed": false,
    "ExecuteTime": {
     "end_time": "2023-12-26T17:38:15.644403Z",
     "start_time": "2023-12-26T17:38:15.641844Z"
    }
   }
  },
  {
   "cell_type": "code",
   "execution_count": 30,
   "outputs": [
    {
     "data": {
      "text/plain": "1000.0000000000053"
     },
     "execution_count": 30,
     "metadata": {},
     "output_type": "execute_result"
    }
   ],
   "source": [],
   "metadata": {
    "collapsed": false,
    "ExecuteTime": {
     "end_time": "2023-12-26T17:39:48.287816Z",
     "start_time": "2023-12-26T17:39:48.285175Z"
    }
   }
  },
  {
   "cell_type": "code",
   "execution_count": 31,
   "outputs": [
    {
     "name": "stdout",
     "output_type": "stream",
     "text": [
      "0.7352941176470589\n"
     ]
    }
   ],
   "source": [],
   "metadata": {
    "collapsed": false,
    "ExecuteTime": {
     "end_time": "2023-12-26T17:42:06.411669Z",
     "start_time": "2023-12-26T17:42:06.407667Z"
    }
   }
  },
  {
   "cell_type": "code",
   "execution_count": 45,
   "outputs": [
    {
     "data": {
      "text/plain": "10000.000000000007"
     },
     "execution_count": 45,
     "metadata": {},
     "output_type": "execute_result"
    }
   ],
   "source": [],
   "metadata": {
    "collapsed": false,
    "ExecuteTime": {
     "end_time": "2023-12-26T17:57:37.018466Z",
     "start_time": "2023-12-26T17:57:37.013355Z"
    }
   }
  },
  {
   "cell_type": "code",
   "execution_count": 21,
   "outputs": [],
   "source": [
    "origin_chengben = 810000\n",
    "origin_part = 782539\n",
    "\n",
    "now = 607777\n",
    "now_value = 0.7\n",
    "part = 753968\n",
    "\n",
    "mini = 0.6\n",
    "max = 0.8\n",
    "\n",
    "# chengben = 0.8695\n",
    "target = 0.8\n",
    "\n",
    "\n",
    "\n"
   ],
   "metadata": {
    "collapsed": false,
    "ExecuteTime": {
     "end_time": "2024-01-10T18:04:35.973468Z",
     "start_time": "2024-01-10T18:04:35.969295Z"
    }
   }
  },
  {
   "cell_type": "code",
   "execution_count": 33,
   "outputs": [
    {
     "name": "stdout",
     "output_type": "stream",
     "text": [
      "20000\n",
      "0.69\n",
      "--------------\n",
      "40000\n",
      "0.6799999999999999\n",
      "--------------\n",
      "60000\n",
      "0.6699999999999999\n",
      "--------------\n",
      "80000\n",
      "0.6599999999999999\n",
      "--------------\n",
      "100000\n",
      "0.6499999999999999\n",
      "--------------\n",
      "120000\n",
      "0.6399999999999999\n",
      "--------------\n",
      "140000\n",
      "0.6299999999999999\n",
      "--------------\n",
      "160000\n",
      "0.6199999999999999\n",
      "--------------\n",
      "____________\n",
      "1120206.2888736413\n",
      "180000\n",
      "720000\n",
      "0.8041013208371713\n"
     ]
    }
   ],
   "source": [
    "total_money = 810000\n",
    "total_part = 782539\n",
    "sell_money = 600000\n",
    "start_buy = 20000\n",
    "total_sell_money = 0\n",
    "now_value = 0.7\n",
    "now_part = 0\n",
    "for i in range(10):\n",
    "    if sell_money < 0:\n",
    "        break\n",
    "    # print(start_buy)\n",
    "    now_value = now_value - 0.1/10\n",
    "    total_sell_money += start_buy\n",
    "    # print(no)\n",
    "    print(start_buy)\n",
    "    print(now_value)\n",
    "    now_part += start_buy/now_value\n",
    "    # print(now_part)\n",
    "    sell_money = sell_money - start_buy\n",
    "    start_buy += 20000\n",
    "    print(\"--------------\")\n",
    "print(\"____________\")\n",
    "print(now_part)\n",
    "print(start_buy)\n",
    "print(total_sell_money)\n",
    "print((total_sell_money + 810000)/(total_part + now_part))\n"
   ],
   "metadata": {
    "collapsed": false,
    "ExecuteTime": {
     "end_time": "2024-01-10T18:12:21.235270Z",
     "start_time": "2024-01-10T18:12:21.232105Z"
    }
   }
  },
  {
   "cell_type": "code",
   "execution_count": 9,
   "outputs": [
    {
     "name": "stdout",
     "output_type": "stream",
     "text": [
      "1.0350921807092042\n",
      "610714080000\n"
     ]
    }
   ],
   "source": [
    "print(chengben/origin_part)\n",
    "print(chengben * part)"
   ],
   "metadata": {
    "collapsed": false,
    "ExecuteTime": {
     "end_time": "2024-01-10T17:52:52.931098Z",
     "start_time": "2024-01-10T17:52:52.920786Z"
    }
   }
  },
  {
   "cell_type": "code",
   "execution_count": 12,
   "outputs": [
    {
     "data": {
      "text/plain": "200000.0"
     },
     "execution_count": 12,
     "metadata": {},
     "output_type": "execute_result"
    }
   ],
   "source": [
    "final_part = 600000/0.6 * 0.2\n",
    "final_part"
   ],
   "metadata": {
    "collapsed": false,
    "ExecuteTime": {
     "end_time": "2024-01-10T17:54:42.186541Z",
     "start_time": "2024-01-10T17:54:42.176654Z"
    }
   }
  },
  {
   "cell_type": "markdown",
   "source": [
    "## 恒生科技定投策略\n",
    "##### 定投区间（2700-3300）金额（20000-1000）20w"
   ],
   "metadata": {
    "collapsed": false
   }
  },
  {
   "cell_type": "code",
   "execution_count": 1,
   "outputs": [
    {
     "data": {
      "text/plain": "30.0"
     },
     "execution_count": 1,
     "metadata": {},
     "output_type": "execute_result"
    }
   ],
   "source": [
    "600/20"
   ],
   "metadata": {
    "collapsed": false,
    "ExecuteTime": {
     "end_time": "2024-01-26T15:56:40.020183Z",
     "start_time": "2024-01-26T15:56:40.000595Z"
    }
   }
  },
  {
   "cell_type": "code",
   "execution_count": null,
   "outputs": [],
   "source": [
    "# 1000 * pow(a, 30) = 20000"
   ],
   "metadata": {
    "collapsed": false
   }
  },
  {
   "cell_type": "code",
   "execution_count": 14,
   "outputs": [
    {
     "data": {
      "text/plain": "1.1200499091501965"
     },
     "execution_count": 14,
     "metadata": {},
     "output_type": "execute_result"
    }
   ],
   "source": [
    "pow(30, 1/30)"
   ],
   "metadata": {
    "collapsed": false,
    "ExecuteTime": {
     "end_time": "2024-01-26T16:04:20.093821Z",
     "start_time": "2024-01-26T16:04:20.085534Z"
    }
   }
  },
  {
   "cell_type": "code",
   "execution_count": 3,
   "outputs": [
    {
     "data": {
      "text/plain": "19999.999999999938"
     },
     "execution_count": 3,
     "metadata": {},
     "output_type": "execute_result"
    }
   ],
   "source": [
    "1000 * pow(1.1050137103527575, 30)"
   ],
   "metadata": {
    "collapsed": false,
    "ExecuteTime": {
     "end_time": "2024-01-26T15:57:51.597359Z",
     "start_time": "2024-01-26T15:57:51.592784Z"
    }
   }
  },
  {
   "cell_type": "code",
   "execution_count": 15,
   "outputs": [],
   "source": [
    "def HSTec(point):\n",
    "    if point < 2700:\n",
    "        return 30000\n",
    "    if point > 3300:\n",
    "        return 0\n",
    "    session = (3300 - point) / 20\n",
    "    q = 1.1200499091501965\n",
    "    return pow(q, session)* 1000"
   ],
   "metadata": {
    "collapsed": false,
    "ExecuteTime": {
     "end_time": "2024-01-26T16:04:27.890482Z",
     "start_time": "2024-01-26T16:04:27.881549Z"
    }
   }
  },
  {
   "cell_type": "code",
   "execution_count": 18,
   "outputs": [
    {
     "data": {
      "text/plain": "5477.2255750516615"
     },
     "execution_count": 18,
     "metadata": {},
     "output_type": "execute_result"
    }
   ],
   "source": [
    "HSTec(3000)"
   ],
   "metadata": {
    "collapsed": false,
    "ExecuteTime": {
     "end_time": "2024-01-26T16:04:36.623329Z",
     "start_time": "2024-01-26T16:04:36.616951Z"
    }
   }
  },
  {
   "cell_type": "code",
   "execution_count": 63,
   "outputs": [
    {
     "ename": "ModuleNotFoundError",
     "evalue": "No module named 'pandas'",
     "output_type": "error",
     "traceback": [
      "\u001B[0;31m---------------------------------------------------------------------------\u001B[0m",
      "\u001B[0;31mModuleNotFoundError\u001B[0m                       Traceback (most recent call last)",
      "Cell \u001B[0;32mIn[63], line 1\u001B[0m\n\u001B[0;32m----> 1\u001B[0m \u001B[38;5;28;01mimport\u001B[39;00m \u001B[38;5;21;01mpandas\u001B[39;00m \u001B[38;5;28;01mas\u001B[39;00m \u001B[38;5;21;01mpd\u001B[39;00m\n\u001B[1;32m      3\u001B[0m pd\u001B[38;5;241m.\u001B[39mread_csv(\u001B[38;5;124m'\u001B[39m\u001B[38;5;124m日线/前复权/513050-中概互联网ETF.csv\u001B[39m\u001B[38;5;124m'\u001B[39m)\n",
      "\u001B[0;31mModuleNotFoundError\u001B[0m: No module named 'pandas'"
     ]
    }
   ],
   "source": [
    "import pandas as pd\n",
    "\n",
    "pd.read_csv('日线/前复权/513050-中概互联网ETF.csv')"
   ],
   "metadata": {
    "collapsed": false,
    "ExecuteTime": {
     "end_time": "2024-01-27T07:52:17.521672Z",
     "start_time": "2024-01-27T07:52:17.287234Z"
    }
   }
  },
  {
   "cell_type": "markdown",
   "source": [
    "### 中概互联\n",
    "（0.8， 1)之间，20个分位点。\n",
    "金额（50000，1000）之间"
   ],
   "metadata": {
    "collapsed": false
   }
  },
  {
   "cell_type": "code",
   "execution_count": 60,
   "outputs": [
    {
     "data": {
      "text/plain": "1.076567338537421"
     },
     "execution_count": 60,
     "metadata": {},
     "output_type": "execute_result"
    }
   ],
   "source": [
    "# 1000 * pow(q, 20) == 50000\n",
    "pow(40, 1/50)"
   ],
   "metadata": {
    "collapsed": false,
    "ExecuteTime": {
     "end_time": "2024-01-26T16:50:07.620146Z",
     "start_time": "2024-01-26T16:50:07.606646Z"
    }
   }
  },
  {
   "cell_type": "code",
   "execution_count": 61,
   "outputs": [],
   "source": [
    "def ChinaTec(point):\n",
    "    if point < 0.8:\n",
    "        return 40000\n",
    "    if point > 1:\n",
    "        return 0\n",
    "    session = (1 - point) / 0.004\n",
    "    q = 1.076567338537421\n",
    "    return pow(q, session) * 1000\n"
   ],
   "metadata": {
    "collapsed": false,
    "ExecuteTime": {
     "end_time": "2024-01-26T16:50:15.479958Z",
     "start_time": "2024-01-26T16:50:15.467911Z"
    }
   }
  },
  {
   "cell_type": "code",
   "execution_count": 62,
   "outputs": [
    {
     "data": {
      "text/plain": "9146.101038546503"
     },
     "execution_count": 62,
     "metadata": {},
     "output_type": "execute_result"
    }
   ],
   "source": [
    "ChinaTec(0.88)"
   ],
   "metadata": {
    "collapsed": false,
    "ExecuteTime": {
     "end_time": "2024-01-26T16:50:15.961597Z",
     "start_time": "2024-01-26T16:50:15.954130Z"
    }
   }
  },
  {
   "cell_type": "markdown",
   "source": [
    "# 沪深3000\n",
    "## 3000-3600点\n",
    "10000-100"
   ],
   "metadata": {
    "collapsed": false
   }
  },
  {
   "cell_type": "code",
   "execution_count": 38,
   "outputs": [
    {
     "data": {
      "text/plain": "1.0923215453658752"
     },
     "execution_count": 38,
     "metadata": {},
     "output_type": "execute_result"
    }
   ],
   "source": [
    "pow(200, 1/60)"
   ],
   "metadata": {
    "collapsed": false,
    "ExecuteTime": {
     "end_time": "2024-01-26T16:27:05.998225Z",
     "start_time": "2024-01-26T16:27:05.990124Z"
    }
   }
  },
  {
   "cell_type": "code",
   "execution_count": 39,
   "outputs": [
    {
     "data": {
      "text/plain": "20000.000000000095"
     },
     "execution_count": 39,
     "metadata": {},
     "output_type": "execute_result"
    }
   ],
   "source": [
    "100 * pow(1.0923215453658752, 60)"
   ],
   "metadata": {
    "collapsed": false,
    "ExecuteTime": {
     "end_time": "2024-01-26T16:27:13.034452Z",
     "start_time": "2024-01-26T16:27:13.025294Z"
    }
   }
  },
  {
   "cell_type": "code",
   "execution_count": 48,
   "outputs": [
    {
     "data": {
      "text/plain": "1414.2135623730985"
     },
     "execution_count": 48,
     "metadata": {},
     "output_type": "execute_result"
    }
   ],
   "source": [
    "def China300(point):\n",
    "    if point < 3000:\n",
    "        return 20000\n",
    "    if point > 3600:\n",
    "        return 0\n",
    "    session = (3600 - point) / 10\n",
    "    q = 1.0923215453658752\n",
    "    return pow(q, session) * 100\n",
    "\n",
    "China300(3300)"
   ],
   "metadata": {
    "collapsed": false,
    "ExecuteTime": {
     "end_time": "2024-01-26T16:28:47.861895Z",
     "start_time": "2024-01-26T16:28:47.856939Z"
    }
   }
  },
  {
   "cell_type": "markdown",
   "source": [
    "## 中证500\n",
    "（4000，4800）\n",
    "（20000，100）"
   ],
   "metadata": {
    "collapsed": false
   }
  },
  {
   "cell_type": "code",
   "execution_count": 51,
   "outputs": [
    {
     "data": {
      "text/plain": "1.0684713339237015"
     },
     "execution_count": 51,
     "metadata": {},
     "output_type": "execute_result"
    }
   ],
   "source": [
    "pow(200, 1/80)"
   ],
   "metadata": {
    "collapsed": false,
    "ExecuteTime": {
     "end_time": "2024-01-26T16:32:15.622995Z",
     "start_time": "2024-01-26T16:32:15.611717Z"
    }
   }
  },
  {
   "cell_type": "code",
   "execution_count": 52,
   "outputs": [
    {
     "data": {
      "text/plain": "20000.000000000164"
     },
     "execution_count": 52,
     "metadata": {},
     "output_type": "execute_result"
    }
   ],
   "source": [
    "100 * pow(1.0684713339237015, 80)"
   ],
   "metadata": {
    "collapsed": false,
    "ExecuteTime": {
     "end_time": "2024-01-26T16:32:25.635549Z",
     "start_time": "2024-01-26T16:32:25.629862Z"
    }
   }
  },
  {
   "cell_type": "code",
   "execution_count": 55,
   "outputs": [
    {
     "data": {
      "text/plain": "1414.2135623731008"
     },
     "execution_count": 55,
     "metadata": {},
     "output_type": "execute_result"
    }
   ],
   "source": [
    "def China500(point):\n",
    "    if point < 4000:\n",
    "        return 20000\n",
    "    if point > 4800:\n",
    "        return 0\n",
    "    session = (4800 - point) / 10\n",
    "    q = 1.0684713339237015\n",
    "    return pow(q, session) * 100\n",
    "\n",
    "China500(4400)"
   ],
   "metadata": {
    "collapsed": false,
    "ExecuteTime": {
     "end_time": "2024-01-26T16:32:52.008243Z",
     "start_time": "2024-01-26T16:32:52.002608Z"
    }
   }
  },
  {
   "cell_type": "code",
   "execution_count": null,
   "outputs": [],
   "source": [],
   "metadata": {
    "collapsed": false
   }
  }
 ],
 "metadata": {
  "kernelspec": {
   "display_name": "Python 3",
   "language": "python",
   "name": "python3"
  },
  "language_info": {
   "codemirror_mode": {
    "name": "ipython",
    "version": 2
   },
   "file_extension": ".py",
   "mimetype": "text/x-python",
   "name": "python",
   "nbconvert_exporter": "python",
   "pygments_lexer": "ipython2",
   "version": "2.7.6"
  }
 },
 "nbformat": 4,
 "nbformat_minor": 0
}
